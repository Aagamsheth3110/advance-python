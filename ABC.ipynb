{
  "cells": [
    {
      "cell_type": "markdown",
      "metadata": {
        "id": "view-in-github",
        "colab_type": "text"
      },
      "source": [
        "<a href=\"https://colab.research.google.com/github/Aagamsheth3110/python/blob/main/ABC.ipynb\" target=\"_parent\"><img src=\"https://colab.research.google.com/assets/colab-badge.svg\" alt=\"Open In Colab\"/></a>"
      ]
    },
    {
      "cell_type": "code",
      "execution_count": null,
      "metadata": {
        "id": "zek88r8ykwoe",
        "colab": {
          "base_uri": "https://localhost:8080/"
        },
        "outputId": "6aa983ed-e8ff-4a81-a755-f6478821aa3e"
      },
      "outputs": [
        {
          "output_type": "stream",
          "name": "stdout",
          "text": [
            "input the radius of the circle : 1.1\n",
            "the area of circle with radius 1.1 is :  3.8013271108439004\n"
          ]
        }
      ],
      "source": [
        "pi=3.14159265359\n",
        "r=float(input(\"input the radius of the circle : \"))\n",
        "area = pi*r*r\n",
        "print(\"the area of circle with radius\",r,\"is : \",area)"
      ]
    },
    {
      "cell_type": "code",
      "execution_count": null,
      "metadata": {
        "id": "Rdxu-EkPxKoO"
      },
      "outputs": [],
      "source": [
        ""
      ]
    },
    {
      "cell_type": "code",
      "execution_count": null,
      "metadata": {
        "colab": {
          "base_uri": "https://localhost:8080/"
        },
        "id": "6r_dIBurxLiT",
        "outputId": "1c640196-aec3-46a0-85ed-16a5a7cca516"
      },
      "outputs": [
        {
          "output_type": "stream",
          "name": "stdout",
          "text": [
            "input the Filename : abc.py\n",
            "The extension of the file is: python\n",
            "The extension of the file is: py\n"
          ]
        }
      ],
      "source": [
        "filename = input(\"input the Filename : \")\n",
        "f_extns = filename.split(\".\")\n",
        "print (\"The extension of the file is:\", \"python\")\n",
        "print (\"The extension of the file is:\", (f_extns[-1]))"
      ]
    }
  ],
  "metadata": {
    "colab": {
      "name": "ABC.ipynb",
      "provenance": [],
      "authorship_tag": "ABX9TyN7IHOUIR6GNERARK6OGutY",
      "include_colab_link": true
    },
    "kernelspec": {
      "display_name": "Python 3",
      "name": "python3"
    },
    "language_info": {
      "name": "python"
    }
  },
  "nbformat": 4,
  "nbformat_minor": 0
}