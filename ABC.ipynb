{
  "cells": [
    {
      "cell_type": "markdown",
      "metadata": {
        "id": "view-in-github",
        "colab_type": "text"
      },
      "source": [
        "<a href=\"https://colab.research.google.com/github/Aagamsheth3110/python/blob/main/ABC.ipynb\" target=\"_parent\"><img src=\"https://colab.research.google.com/assets/colab-badge.svg\" alt=\"Open In Colab\"/></a>"
      ]
    },
    {
      "cell_type": "code",
      "execution_count": null,
      "metadata": {
        "id": "zek88r8ykwoe",
        "colab": {
          "base_uri": "https://localhost:8080/"
        },
        "outputId": "99f090be-ab15-470d-da97-683c3b73ab88"
      },
      "outputs": [
        {
          "output_type": "stream",
          "name": "stdout",
          "text": [
            "input the radius of the circle : 1.1\n",
            "the area of circle with radius 1.1 is :  3.8013271108439004\n"
          ]
        }
      ],
      "source": [
        "pi=3.14159265359\n",
        "r=float(input(\"input the radius of the circle : \"))\n",
        "area = pi*r*r\n",
        "print(\"the area of circle with radius\",r,\"is : \",area)"
      ]
    },
    {
      "cell_type": "code",
      "execution_count": null,
      "metadata": {
        "id": "Rdxu-EkPxKoO"
      },
      "outputs": [],
      "source": [
        ""
      ]
    },
    {
      "cell_type": "code",
      "execution_count": null,
      "metadata": {
        "colab": {
          "base_uri": "https://localhost:8080/"
        },
        "id": "6r_dIBurxLiT",
        "outputId": "be947334-8994-4f23-edb5-1062e08a2b90"
      },
      "outputs": [
        {
          "output_type": "stream",
          "name": "stdout",
          "text": [
            "input the Filename : abc.py\n",
            "The extension of the file is: python\n",
            "The extension of the file is: py\n"
          ]
        }
      ],
      "source": [
        "filename = input(\"input the Filename : \")\n",
        "f_extns = filename.split(\".\")\n",
        "print (\"The extension of the file is:\", \"python\")\n",
        "print (\"The extension of the file is:\", (f_extns[-1]))"
      ]
    },
    {
      "cell_type": "code",
      "source": [
        ""
      ],
      "metadata": {
        "id": "AZRgdJJSa2wj"
      },
      "execution_count": null,
      "outputs": []
    },
    {
      "cell_type": "code",
      "source": [
        "n = int(input(\"enter the no for Fibonacci sequence\"))\n",
        "print(\"Fibonacci sequence is \")\n",
        "a=0\n",
        "b=1\n",
        "i=0\n",
        "while i<n:\n",
        "  c=a+b\n",
        "  a=b\n",
        "  b=c\n",
        "  i=i+1\n",
        "  print(a)"
      ],
      "metadata": {
        "id": "9O581665a3DC",
        "colab": {
          "base_uri": "https://localhost:8080/"
        },
        "outputId": "80eb9c0f-ba70-4ea1-c2b2-0da98f3d7650"
      },
      "execution_count": null,
      "outputs": [
        {
          "output_type": "stream",
          "name": "stdout",
          "text": [
            "enter the no for Fibonacci sequence15\n",
            "Fibonacci sequence is \n",
            "1\n",
            "1\n",
            "2\n",
            "3\n",
            "5\n",
            "8\n",
            "13\n",
            "21\n",
            "34\n",
            "55\n",
            "89\n",
            "144\n",
            "233\n",
            "377\n",
            "610\n"
          ]
        }
      ]
    },
    {
      "cell_type": "code",
      "source": [
        ""
      ],
      "metadata": {
        "id": "lERHC_9zYh2s"
      },
      "execution_count": null,
      "outputs": []
    },
    {
      "cell_type": "code",
      "source": [
        "x = ([12,-7,5,64,-14])\n",
        "print(\"input: list1 =\",x)\n",
        "y = list(filter(lambda a:a>0,x))\n",
        "print(\"output:\",y)"
      ],
      "metadata": {
        "id": "nh7asnX_YiH6",
        "colab": {
          "base_uri": "https://localhost:8080/"
        },
        "outputId": "7b8baab5-c148-40d1-9f4d-0afc204fbfbf"
      },
      "execution_count": null,
      "outputs": [
        {
          "output_type": "stream",
          "name": "stdout",
          "text": [
            "input: list1 = [12, -7, 5, 64, -14]\n",
            "output: [12, 5, 64]\n"
          ]
        }
      ]
    },
    {
      "cell_type": "code",
      "source": [
        ""
      ],
      "metadata": {
        "id": "D9MYV1ZCfYVz"
      },
      "execution_count": null,
      "outputs": []
    },
    {
      "cell_type": "code",
      "source": [
        "x = ([12,14,-95,3])\n",
        "print(\"input: list2 =\",x)\n",
        "y = list(filter(lambda a:a>0,x))\n",
        "print(\"output:\",y)"
      ],
      "metadata": {
        "colab": {
          "base_uri": "https://localhost:8080/"
        },
        "id": "akM5UgVRfYrC",
        "outputId": "3755d616-fa29-4e21-e948-1194b038e2b4"
      },
      "execution_count": null,
      "outputs": [
        {
          "output_type": "stream",
          "name": "stdout",
          "text": [
            "input: list2 = [12, 14, -95, 3]\n",
            "output: [12, 14, 3]\n"
          ]
        }
      ]
    }
  ],
  "metadata": {
    "colab": {
      "name": "ABC.ipynb",
      "provenance": [],
      "authorship_tag": "ABX9TyPTQzk4Bmgu3mqnNFuf0pyE",
      "include_colab_link": true
    },
    "kernelspec": {
      "display_name": "Python 3",
      "name": "python3"
    },
    "language_info": {
      "name": "python"
    }
  },
  "nbformat": 4,
  "nbformat_minor": 0
}