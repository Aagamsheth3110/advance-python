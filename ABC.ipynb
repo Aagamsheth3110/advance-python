{
  "cells": [
    {
      "cell_type": "markdown",
      "metadata": {
        "id": "view-in-github",
        "colab_type": "text"
      },
      "source": [
        "<a href=\"https://colab.research.google.com/github/Aagamsheth3110/python/blob/main/ABC.ipynb\" target=\"_parent\"><img src=\"https://colab.research.google.com/assets/colab-badge.svg\" alt=\"Open In Colab\"/></a>"
      ]
    },
    {
      "cell_type": "code",
      "execution_count": null,
      "metadata": {
        "id": "zek88r8ykwoe",
        "colab": {
          "base_uri": "https://localhost:8080/"
        },
        "outputId": "99f090be-ab15-470d-da97-683c3b73ab88"
      },
      "outputs": [
        {
          "output_type": "stream",
          "name": "stdout",
          "text": [
            "input the radius of the circle : 1.1\n",
            "the area of circle with radius 1.1 is :  3.8013271108439004\n"
          ]
        }
      ],
      "source": [
        "pi=3.14159265359\n",
        "r=float(input(\"input the radius of the circle : \"))\n",
        "area = pi*r*r\n",
        "print(\"the area of circle with radius\",r,\"is : \",area)"
      ]
    },
    {
      "cell_type": "code",
      "execution_count": null,
      "metadata": {
        "id": "Rdxu-EkPxKoO"
      },
      "outputs": [],
      "source": [
        ""
      ]
    },
    {
      "cell_type": "code",
      "execution_count": null,
      "metadata": {
        "colab": {
          "base_uri": "https://localhost:8080/"
        },
        "id": "6r_dIBurxLiT",
        "outputId": "be947334-8994-4f23-edb5-1062e08a2b90"
      },
      "outputs": [
        {
          "output_type": "stream",
          "name": "stdout",
          "text": [
            "input the Filename : abc.py\n",
            "The extension of the file is: python\n",
            "The extension of the file is: py\n"
          ]
        }
      ],
      "source": [
        "filename = input(\"input the Filename : \")\n",
        "f_extns = filename.split(\".\")\n",
        "print (\"The extension of the file is:\", \"python\")\n",
        "print (\"The extension of the file is:\", (f_extns[-1]))"
      ]
    },
    {
      "cell_type": "code",
      "source": [
        ""
      ],
      "metadata": {
        "id": "AZRgdJJSa2wj"
      },
      "execution_count": null,
      "outputs": []
    },
    {
      "cell_type": "code",
      "source": [
        "n = int(input(\"enter the no for Fibonacci sequence\"))\n",
        "print(\"Fibonacci sequence is \")\n",
        "a=0\n",
        "b=1\n",
        "i=0\n",
        "while i<n:\n",
        "  c=a+b\n",
        "  a=b\n",
        "  b=c\n",
        "  i=i+1\n",
        "  print(a)"
      ],
      "metadata": {
        "id": "9O581665a3DC",
        "colab": {
          "base_uri": "https://localhost:8080/"
        },
        "outputId": "80eb9c0f-ba70-4ea1-c2b2-0da98f3d7650"
      },
      "execution_count": null,
      "outputs": [
        {
          "output_type": "stream",
          "name": "stdout",
          "text": [
            "enter the no for Fibonacci sequence15\n",
            "Fibonacci sequence is \n",
            "1\n",
            "1\n",
            "2\n",
            "3\n",
            "5\n",
            "8\n",
            "13\n",
            "21\n",
            "34\n",
            "55\n",
            "89\n",
            "144\n",
            "233\n",
            "377\n",
            "610\n"
          ]
        }
      ]
    },
    {
      "cell_type": "code",
      "source": [
        ""
      ],
      "metadata": {
        "id": "lERHC_9zYh2s"
      },
      "execution_count": null,
      "outputs": []
    },
    {
      "cell_type": "code",
      "source": [
        "x = ([12,-7,5,64,-14])\n",
        "print(\"input: list1 =\",x)\n",
        "y = list(filter(lambda a:a>0,x))\n",
        "print(\"output:\",y)"
      ],
      "metadata": {
        "id": "nh7asnX_YiH6",
        "colab": {
          "base_uri": "https://localhost:8080/"
        },
        "outputId": "7b8baab5-c148-40d1-9f4d-0afc204fbfbf"
      },
      "execution_count": null,
      "outputs": [
        {
          "output_type": "stream",
          "name": "stdout",
          "text": [
            "input: list1 = [12, -7, 5, 64, -14]\n",
            "output: [12, 5, 64]\n"
          ]
        }
      ]
    },
    {
      "cell_type": "code",
      "source": [
        ""
      ],
      "metadata": {
        "id": "D9MYV1ZCfYVz"
      },
      "execution_count": null,
      "outputs": []
    },
    {
      "cell_type": "code",
      "source": [
        "x = ([12,14,-95,3])\n",
        "print(\"input: list2 =\",x)\n",
        "y = list(filter(lambda a:a>0,x))\n",
        "print(\"output:\",y)"
      ],
      "metadata": {
        "colab": {
          "base_uri": "https://localhost:8080/"
        },
        "id": "akM5UgVRfYrC",
        "outputId": "d0758475-7d87-419e-b7ad-c9272b4830a2"
      },
      "execution_count": null,
      "outputs": [
        {
          "output_type": "stream",
          "name": "stdout",
          "text": [
            "input: list2 = [12, 14, -95, 3]\n",
            "output: [12, 14, 3]\n"
          ]
        }
      ]
    },
    {
      "cell_type": "code",
      "source": [
        ""
      ],
      "metadata": {
        "id": "OaeGwN18I9PF"
      },
      "execution_count": null,
      "outputs": []
    },
    {
      "cell_type": "code",
      "source": [
        "def most_frequent(word):\n",
        "    \n",
        "    my_dictionary = dict()\n",
        "    for letter in word:\n",
        "        if letter.isupper():\n",
        "            letter = letter.lower()\n",
        "        else:\n",
        "            pass\n",
        "\n",
        "        if letter in my_dictionary.keys(): \n",
        "            my_dictionary[letter] += 1\n",
        "        else:\n",
        "            my_dictionary[letter] = 1\n",
        "    \n",
        "    print(sorted(my_dictionary.items(), key = lambda kv:(kv[1], kv[0]), reverse = True))\n",
        "\n",
        "input_word = input(\"Enter the word : \")\n",
        "most_frequent(input_word)"
      ],
      "metadata": {
        "colab": {
          "base_uri": "https://localhost:8080/"
        },
        "id": "naWIEzwWdh5Q",
        "outputId": "08a7be91-fa55-4157-ca91-7596f92c81e8"
      },
      "execution_count": 13,
      "outputs": [
        {
          "output_type": "stream",
          "name": "stdout",
          "text": [
            "Enter the word : mississippi\n",
            "[('s', 4), ('i', 4), ('p', 2), ('m', 1)]\n"
          ]
        }
      ]
    }
  ],
  "metadata": {
    "colab": {
      "name": "ABC.ipynb",
      "provenance": [],
      "collapsed_sections": [],
      "authorship_tag": "ABX9TyM3k74ltwAJqXS7QIh6PiYp",
      "include_colab_link": true
    },
    "kernelspec": {
      "display_name": "Python 3",
      "name": "python3"
    },
    "language_info": {
      "name": "python"
    }
  },
  "nbformat": 4,
  "nbformat_minor": 0
}